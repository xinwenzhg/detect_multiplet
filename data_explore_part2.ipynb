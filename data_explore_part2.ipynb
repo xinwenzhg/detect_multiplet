{
 "cells": [
  {
   "cell_type": "markdown",
   "metadata": {},
   "source": [
    "## 1. Check data properties\n",
    "### genes"
   ]
  },
  {
   "cell_type": "markdown",
   "metadata": {},
   "source": [
    "#### scan file to get a summary data frame"
   ]
  },
  {
   "cell_type": "code",
   "execution_count": 1,
   "metadata": {},
   "outputs": [
    {
     "name": "stdout",
     "output_type": "stream",
     "text": [
      "processing line 0 on gene: hg19_chr1:713971-714221\n",
      "\n",
      "processing line 10000 on gene: hg19_chr1:203276194-203276444\n",
      "\n",
      "processing line 20000 on gene: hg19_chr11:60253518-60253768\n",
      "\n",
      "processing line 30000 on gene: hg19_chr12:123854345-123854595\n",
      "\n",
      "processing line 40000 on gene: hg19_chr15:77197672-77197922\n",
      "\n",
      "processing line 50000 on gene: hg19_chr17:37931823-37932073\n",
      "\n",
      "processing line 60000 on gene: hg19_chr19:28503436-28503686\n",
      "\n",
      "processing line 70000 on gene: hg19_chr2:203438666-203438916\n",
      "\n",
      "processing line 80000 on gene: hg19_chr22:44734840-44735090\n",
      "\n",
      "processing line 90000 on gene: hg19_chr4:79579176-79579426\n",
      "\n",
      "processing line 100000 on gene: hg19_chr6:32408950-32409200\n",
      "\n",
      "processing line 110000 on gene: hg19_chr8:580985-581235\n",
      "\n",
      "processing line 120000 on gene: hg19_chrX:9434513-9434763\n",
      "\n",
      "processing line 130000 on gene: mm10_chr1:172590670-172590920\n",
      "\n",
      "processing line 140000 on gene: mm10_chr10:128044146-128044396\n",
      "\n",
      "processing line 150000 on gene: mm10_chr11:109585121-109585371\n",
      "\n",
      "processing line 160000 on gene: mm10_chr13:53160700-53160950\n",
      "\n",
      "processing line 170000 on gene: mm10_chr15:73554083-73554333\n",
      "\n",
      "processing line 180000 on gene: mm10_chr17:14255976-14256226\n",
      "\n",
      "processing line 190000 on gene: mm10_chr18:69667105-69667355\n",
      "\n",
      "processing line 200000 on gene: mm10_chr2:71652294-71652544\n",
      "\n",
      "processing line 210000 on gene: mm10_chr3:102528328-102528578\n",
      "\n",
      "processing line 220000 on gene: mm10_chr4:136206299-136206549\n",
      "\n",
      "processing line 230000 on gene: mm10_chr5:148552659-148552909\n",
      "\n",
      "processing line 240000 on gene: mm10_chr7:27507864-27508114\n",
      "\n",
      "processing line 250000 on gene: mm10_chr8:71592543-71592793\n",
      "\n",
      "processing line 260000 on gene: mm10_chr9:113447795-113448045\n",
      "\n"
     ]
    }
   ],
   "source": [
    "with open(\"./data/count_matrix.csv\", \"r\") as f1, open(\"./data/peak_names_out.csv\", \"r\") as f2:\n",
    "    droplets = f1.readline().split(\",\") \n",
    "\n",
    "    gene_hg_cnts = []\n",
    "    gene_mm_cnts = []\n",
    "    gene_hg_dropCover = []\n",
    "    gene_mm_dropCover = []\n",
    "    for i, (l1, l2) in enumerate(zip(f1, f2)):\n",
    "        if i % 10000 == 0:\n",
    "            print(f\"processing line {i} on gene: {l2}\")\n",
    "        \n",
    "        gene_cnts = sum(int(x) for x in l1.rstrip().split(\",\"))\n",
    "        gene_dropCover = sum([int(x) > 0 for x in l1.rstrip().split(\",\")]) \n",
    "        if l2.startswith(\"hg19\"):       \n",
    "            gene_hg_cnts.append(gene_cnts)\n",
    "            gene_hg_dropCover.append(gene_dropCover)\n",
    "        elif l2.startswith(\"mm10\"):\n",
    "            gene_mm_cnts.append(gene_cnts)\n",
    "            gene_mm_dropCover.append(gene_dropCover)\n",
    "        else:\n",
    "            raise(\"Neither a human or mouse gene\")"
   ]
  },
  {
   "cell_type": "markdown",
   "metadata": {},
   "source": [
    "Save the summary data, since it takes 8min."
   ]
  },
  {
   "cell_type": "code",
   "execution_count": 3,
   "metadata": {},
   "outputs": [],
   "source": [
    "import pandas as pd\n",
    "df_hg_genes = pd.DataFrame({\"gene_hg_cnts\": gene_hg_cnts, \n",
    "                            \"gene_hg_dropCover\": gene_hg_dropCover})\n",
    "\n",
    "df_mm_genes = pd.DataFrame({\"gene_mm_cnts\": gene_mm_cnts, \n",
    "                            \"gene_mm_dropCover\": gene_mm_dropCover})                           \n",
    "df_hg_genes.to_csv(\"mid_df_hg_genes.csv\", index=False)\n",
    "df_mm_genes.to_csv(\"mid_df_mm_genes.csv\", index=False)"
   ]
  },
  {
   "cell_type": "markdown",
   "metadata": {},
   "source": [
    "#### This part can be done without running previous part."
   ]
  },
  {
   "cell_type": "code",
   "execution_count": 4,
   "metadata": {},
   "outputs": [],
   "source": [
    "del df_hg_genes\n",
    "del df_mm_genes\n",
    "import pandas as pd\n",
    "df_hg_genes = pd.read_csv(\"mid_df_hg_genes.csv\")\n",
    "df_mm_genes = pd.read_csv(\"mid_df_mm_genes.csv\")"
   ]
  },
  {
   "cell_type": "code",
   "execution_count": 5,
   "metadata": {},
   "outputs": [
    {
     "data": {
      "text/plain": [
       "gene_hg_cnts         int64\n",
       "gene_hg_dropCover    int64\n",
       "dtype: object"
      ]
     },
     "execution_count": 5,
     "metadata": {},
     "output_type": "execute_result"
    }
   ],
   "source": [
    "df_hg_genes.dtypes"
   ]
  },
  {
   "cell_type": "code",
   "execution_count": 6,
   "metadata": {},
   "outputs": [],
   "source": [
    "import matplotlib.pyplot as plt\n",
    "import numpy as np"
   ]
  },
  {
   "cell_type": "markdown",
   "metadata": {},
   "source": [
    "number of genes: 5578"
   ]
  },
  {
   "cell_type": "code",
   "execution_count": 7,
   "metadata": {},
   "outputs": [
    {
     "data": {
      "text/plain": [
       "(122438, 2)"
      ]
     },
     "execution_count": 7,
     "metadata": {},
     "output_type": "execute_result"
    }
   ],
   "source": [
    "df_hg_genes.shape"
   ]
  },
  {
   "cell_type": "code",
   "execution_count": 8,
   "metadata": {},
   "outputs": [
    {
     "data": {
      "text/plain": [
       "(140357, 2)"
      ]
     },
     "execution_count": 8,
     "metadata": {},
     "output_type": "execute_result"
    }
   ],
   "source": [
    "df_mm_genes.shape"
   ]
  },
  {
   "cell_type": "code",
   "execution_count": 11,
   "metadata": {},
   "outputs": [
    {
     "data": {
      "image/png": "[encoded data removed]",
      "text/plain": [
       "<Figure size 600x300 with 2 Axes>"
      ]
     },
     "metadata": {},
     "output_type": "display_data"
    }
   ],
   "source": [
    "fig, axs = plt.subplots(1, 2, figsize=(6, 3), layout='constrained')\n",
    "pooln = [\"gene_hg_cnts\", \"gene_hg_dropCover\"]\n",
    "for i in range(2):\n",
    "    axs[i].plot(sorted(df_hg_genes[pooln[i]], reverse=True))\n",
    "    axs[i].set_xlabel('gene rank')\n",
    "    axs[i].set_xscale(\"log\")\n",
    "    axs[i].set_title(pooln[i])"
   ]
  },
  {
   "cell_type": "code",
   "execution_count": 12,
   "metadata": {},
   "outputs": [
    {
     "data": {
      "image/png": "[encoded data removed]",
      "text/plain": [
       "<Figure size 600x300 with 2 Axes>"
      ]
     },
     "metadata": {},
     "output_type": "display_data"
    }
   ],
   "source": [
    "fig, axs = plt.subplots(1, 2, figsize=(6, 3), layout='constrained')\n",
    "pooln = [\"gene_mm_cnts\", \"gene_mm_dropCover\"]\n",
    "for i in range(2):\n",
    "    axs[i].plot(sorted(df_mm_genes[pooln[i]], reverse=True))\n",
    "    axs[i].set_xlabel('gene rank')\n",
    "    axs[i].set_xscale(\"log\")\n",
    "    axs[i].set_title(pooln[i])"
   ]
  },
  {
   "cell_type": "markdown",
   "metadata": {},
   "source": [
    "#### use gene drop cover as threshold, use the first 200 genes with highest dropCover"
   ]
  },
  {
   "cell_type": "code",
   "execution_count": 13,
   "metadata": {},
   "outputs": [],
   "source": [
    "hg_thrsld = sorted(df_hg_genes[\"gene_hg_dropCover\"],reverse=True)[200]\n",
    "mm_thrsld = sorted(df_mm_genes[\"gene_mm_dropCover\"],reverse=True)[200]"
   ]
  },
  {
   "cell_type": "code",
   "execution_count": 14,
   "metadata": {},
   "outputs": [
    {
     "data": {
      "text/plain": [
       "753"
      ]
     },
     "execution_count": 14,
     "metadata": {},
     "output_type": "execute_result"
    }
   ],
   "source": [
    "hg_thrsld"
   ]
  },
  {
   "cell_type": "code",
   "execution_count": 15,
   "metadata": {},
   "outputs": [
    {
     "data": {
      "text/plain": [
       "1343"
      ]
     },
     "execution_count": 15,
     "metadata": {},
     "output_type": "execute_result"
    }
   ],
   "source": [
    "mm_thrsld"
   ]
  },
  {
   "cell_type": "markdown",
   "metadata": {},
   "source": [
    "#### use the threshold to choose genes, and save to csv as two count_matrixs for human and mouse"
   ]
  },
  {
   "cell_type": "code",
   "execution_count": 16,
   "metadata": {},
   "outputs": [
    {
     "name": "stdout",
     "output_type": "stream",
     "text": [
      "processing line 0 on gene: hg19_chr1:713971-714221\n",
      "\n",
      "processing line 15000 on gene: hg19_chr10:81026673-81026923\n",
      "\n",
      "processing line 30000 on gene: hg19_chr12:123854345-123854595\n",
      "\n",
      "processing line 45000 on gene: hg19_chr16:67562398-67562648\n",
      "\n",
      "processing line 60000 on gene: hg19_chr19:28503436-28503686\n",
      "\n",
      "processing line 75000 on gene: hg19_chr20:56039998-56040248\n",
      "\n",
      "processing line 90000 on gene: hg19_chr4:79579176-79579426\n",
      "\n",
      "processing line 105000 on gene: hg19_chr7:5569283-5569533\n",
      "\n",
      "processing line 120000 on gene: hg19_chrX:9434513-9434763\n",
      "\n",
      "processing line 135000 on gene: mm10_chr10:69889817-69890067\n",
      "\n",
      "processing line 150000 on gene: mm10_chr11:109585121-109585371\n",
      "\n",
      "processing line 165000 on gene: mm10_chr14:61660861-61661111\n",
      "\n",
      "processing line 180000 on gene: mm10_chr17:14255976-14256226\n",
      "\n",
      "processing line 195000 on gene: mm10_chr19:45134011-45134261\n",
      "\n",
      "processing line 210000 on gene: mm10_chr3:102528328-102528578\n",
      "\n",
      "processing line 225000 on gene: mm10_chr5:77155768-77156018\n",
      "\n",
      "processing line 240000 on gene: mm10_chr7:27507864-27508114\n",
      "\n",
      "processing line 255000 on gene: mm10_chr9:22099083-22099333\n",
      "\n"
     ]
    }
   ],
   "source": [
    "with open(\"./data/count_matrix.csv\", \"r\") as f1, open(\"./data/peak_names_out.csv\", \"r\") as f2:\n",
    "    droplets = f1.readline().split(\",\") \n",
    "    cntMtx_hg = pd.DataFrame(columns=droplets,dtype=\"int16\")\n",
    "    cntMtx_mm = pd.DataFrame(columns=droplets,dtype=\"int16\")\n",
    "    for i, (l1, l2) in enumerate(zip(f1, f2)):\n",
    "        if i % 15000 == 0:\n",
    "            print(f\"processing line {i} on gene: {l2}\")\n",
    "        gene = l2.rstrip()\n",
    "        cnts = [int(x) for x in l1.rstrip().split(\",\")]\n",
    "        cvg = sum([ y > 0 for y in cnts])\n",
    "        if gene.startswith(\"hg19\"):\n",
    "            if cvg >= hg_thrsld:\n",
    "                cntMtx_hg.loc[gene] = cnts\n",
    "        elif gene.startswith(\"mm10\"):\n",
    "            if cvg >= mm_thrsld:\n",
    "                cntMtx_mm.loc[gene] = cnts\n",
    "        else:\n",
    "            raise(\"Neither human or mouse gene\")"
   ]
  },
  {
   "cell_type": "code",
   "execution_count": 21,
   "metadata": {},
   "outputs": [
    {
     "data": {
      "text/plain": [
       "Index(['hg19_chr1:11866020-11866270', 'hg19_chr1:23694732-23694982',\n",
       "       'hg19_chr1:25071541-25071791', 'hg19_chr1:28052119-28052369',\n",
       "       'hg19_chr1:36689739-36689989', 'hg19_chr1:40506094-40506344',\n",
       "       'hg19_chr1:43232739-43232989', 'hg19_chr1:47184797-47185047',\n",
       "       'hg19_chr1:67896086-67896336', 'hg19_chr1:85742304-85742554',\n",
       "       ...\n",
       "       'hg19_chr9:35732246-35732496', 'hg19_chr9:66458375-66458625',\n",
       "       'hg19_chr9:82186562-82186812', 'hg19_chr9:91925737-91925987',\n",
       "       'hg19_chr9:100395628-100395878', 'hg19_chr9:116163510-116163760',\n",
       "       'hg19_chr9:128003606-128003856', 'hg19_chr9:131843148-131843398',\n",
       "       'hg19_chr9:139981172-139981422', 'hg19_chrX:108297553-108297803'],\n",
       "      dtype='object', length=204)"
      ]
     },
     "execution_count": 21,
     "metadata": {},
     "output_type": "execute_result"
    }
   ],
   "source": [
    "cntMtx_hg.index"
   ]
  },
  {
   "cell_type": "code",
   "execution_count": 22,
   "metadata": {},
   "outputs": [
    {
     "data": {
      "text/plain": [
       "Index(['mm10_chr1:7088642-7088892', 'mm10_chr1:9748363-9748613',\n",
       "       'mm10_chr1:74284742-74284992', 'mm10_chr1:88277490-88277740',\n",
       "       'mm10_chr1:92180430-92180680', 'mm10_chr10:5805495-5805745',\n",
       "       'mm10_chr10:5824102-5824352', 'mm10_chr10:21994491-21994741',\n",
       "       'mm10_chr10:39369559-39369809', 'mm10_chr10:40348995-40349245',\n",
       "       ...\n",
       "       'mm10_chr8:3754353-3754603', 'mm10_chr8:11555758-11556008',\n",
       "       'mm10_chr8:69996276-69996526', 'mm10_chr8:69996544-69996794',\n",
       "       'mm10_chr8:71272337-71272587', 'mm10_chr8:83955456-83955706',\n",
       "       'mm10_chr8:84066559-84066809', 'mm10_chr8:120589090-120589340',\n",
       "       'mm10_chr8:126594530-126594780', 'mm10_chr9:123461926-123462176'],\n",
       "      dtype='object', length=204)"
      ]
     },
     "execution_count": 22,
     "metadata": {},
     "output_type": "execute_result"
    }
   ],
   "source": [
    "cntMtx_mm.index"
   ]
  },
  {
   "cell_type": "code",
   "execution_count": 25,
   "metadata": {},
   "outputs": [],
   "source": [
    "cntMtx_hg.to_csv(\"cntMtx_hg.csv\", index=False)\n",
    "cntMtx_mm.to_csv(\"cntMtx_mm.csv\", index=False)"
   ]
  }
 ],
 "metadata": {
  "kernelspec": {
   "display_name": "Python 3.8.8 ('base')",
   "language": "python",
   "name": "python3"
  },
  "language_info": {
   "codemirror_mode": {
    "name": "ipython",
    "version": 3
   },
   "file_extension": ".py",
   "mimetype": "text/x-python",
   "name": "python",
   "nbconvert_exporter": "python",
   "pygments_lexer": "ipython3",
   "version": "3.8.8"
  },
  "orig_nbformat": 4,
  "vscode": {
   "interpreter": {
    "hash": "6b04148b41ed0f9ff659565ada21573b98442edbfb583d6a4df9c36d68b5366a"
   }
  }
 },
 "nbformat": 4,
 "nbformat_minor": 2
}
